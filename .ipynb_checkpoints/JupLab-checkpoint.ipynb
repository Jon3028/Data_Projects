{
 "cells": [
  {
   "cell_type": "code",
   "execution_count": 1,
   "id": "9d0e4748-1e8e-4451-914b-0d42de91bc49",
   "metadata": {},
   "outputs": [],
   "source": [
    "#Prueba de codigo"
   ]
  }
 ],
 "metadata": {
  "kernelspec": {
   "display_name": "Python 3 (ipykernel)",
   "language": "python",
   "name": "python3"
  },
  "language_info": {
   "codemirror_mode": {
    "name": "ipython",
    "version": 3
   },
   "file_extension": ".py",
   "mimetype": "text/x-python",
   "name": "python",
   "nbconvert_exporter": "python",
   "pygments_lexer": "ipython3",
   "version": "3.10.6"
  }
 },
 "nbformat": 4,
 "nbformat_minor": 5
}
