{
 "cells": [
  {
   "cell_type": "markdown",
   "id": "f2b0ba18-d4b8-426c-82f9-60869f84da43",
   "metadata": {},
   "source": [
    "# Procedural Programming\n",
    "\n",
    "This notebook contains the code from the previous screencast. The code counts the number of times a song appears in the log_of_songs variable. \n",
    "\n",
    "You'll notice that the first time you run `count_plays(\"Despacito\")`, you get the correct count. However, when you run the same code again `count_plays(\"Despacito\")`, the results are no longer correct.This is because the global variable `play_count` stores the results outside of the count_plays function. \n"
   ]
  },
  {
   "cell_type": "code",
   "execution_count": 1,
   "id": "b3a9b508-0f22-4dcd-b64f-a2f551836d11",
   "metadata": {},
   "outputs": [],
   "source": [
    "log_of_songs=[\n",
    "    \"Despacito\",\n",
    "    \"Nice for what\",\n",
    "    \"No tears left to cry\",\n",
    "    \"Despacito\",\n",
    "    \"Havana\",\n",
    "    \"In my gellings\",\n",
    "    \"Nice for what\",\n",
    "    \"Despacito\",\n",
    "    \"All the stars\"\n",
    "]"
   ]
  },
  {
   "cell_type": "code",
   "execution_count": 28,
   "id": "b6874f43-21c6-4d5e-a383-ce6bfc9d1338",
   "metadata": {},
   "outputs": [],
   "source": [
    "#Definiendo la funcion\n",
    "def count_plays(song_title):\n",
    "    play_count=0\n",
    "#    global play_count //Eliminado esta seccion el codigo siempre manda llamar al valor sin que cuente duplicidades\n",
    "    for song in log_of_songs:\n",
    "        if song == song_title:\n",
    "            play_count=play_count+1\n",
    "    return play_count"
   ]
  },
  {
   "cell_type": "code",
   "execution_count": 42,
   "id": "73aaa36a-0194-46c6-881b-b0fbd26a068a",
   "metadata": {},
   "outputs": [
    {
     "data": {
      "text/plain": [
       "3"
      ]
     },
     "execution_count": 42,
     "metadata": {},
     "output_type": "execute_result"
    }
   ],
   "source": [
    "count_plays(\"Despacito\")"
   ]
  },
  {
   "cell_type": "markdown",
   "id": "d5d68bbc-d094-4c44-b252-e440d237dee1",
   "metadata": {},
   "source": [
    "# How to Solve the Issue\n",
    "\n",
    "How might you solve this issue? You could get rid of the global variable and instead use play_count as an input to the function:\n",
    "\n",
    "```python\n",
    "def count_plays(song_title, play_count):\n",
    "    for song in log_of_songs:\n",
    "        if song == song_title:\n",
    "            play_count = play_count + 1\n",
    "    return play_count\n",
    "\n",
    "```\n",
    "\n",
    "How would this work with parallel programming? Spark splits up data onto multiple machines. If your songs list were split onto two machines, Machine A would first need to finish counting, and then return its own result to Machine B. And then Machine B could use the output from Machine A and add to the count.\n",
    "\n",
    "However, that isn't parallel computing. Machine B would have to wait until Machine A finishes. You'll see in the next parts of the lesson how Spark solves this issue with a functional programming paradigm.\n",
    "\n",
    "In Spark, if your data is split onto two different machines, machine A will run a function to count how many times 'Despacito' appears on machine A. Machine B will simultaneously run a function to count how many times 'Despacito' appears on machine B. After they finish counting individually, they'll combine their results together. You'll see how this works in the next parts of the lesson."
   ]
  }
 ],
 "metadata": {
  "kernelspec": {
   "display_name": "Python 3 (ipykernel)",
   "language": "python",
   "name": "python3"
  },
  "language_info": {
   "codemirror_mode": {
    "name": "ipython",
    "version": 3
   },
   "file_extension": ".py",
   "mimetype": "text/x-python",
   "name": "python",
   "nbconvert_exporter": "python",
   "pygments_lexer": "ipython3",
   "version": "3.10.6"
  }
 },
 "nbformat": 4,
 "nbformat_minor": 5
}
