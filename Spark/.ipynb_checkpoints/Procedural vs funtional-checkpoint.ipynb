{
 "cells": [
  {
   "cell_type": "code",
   "execution_count": 1,
   "id": "b3a9b508-0f22-4dcd-b64f-a2f551836d11",
   "metadata": {},
   "outputs": [],
   "source": [
    "log_of_songs=[\n",
    "    \"Despacito\",\n",
    "    \"Nice for what\",\n",
    "    \"No tears left to cry\",\n",
    "    \"Despacito\",\n",
    "    \"Havana\",\n",
    "    \"In my gellings\",\n",
    "    \"Nice for what\",\n",
    "    \"Despacito\",\n",
    "    \"All the stars\"\n",
    "]"
   ]
  },
  {
   "cell_type": "code",
   "execution_count": 28,
   "id": "b6874f43-21c6-4d5e-a383-ce6bfc9d1338",
   "metadata": {},
   "outputs": [],
   "source": [
    "#Definiendo la funcion\n",
    "def count_plays(song_title):\n",
    "    play_count=0\n",
    "#    global play_count //Eliminado esta seccion el codigo siempre manda llamar al valor sin que cuente duplicidades\n",
    "    for song in log_of_songs:\n",
    "        if song == song_title:\n",
    "            play_count=play_count+1\n",
    "    return play_count"
   ]
  },
  {
   "cell_type": "code",
   "execution_count": 42,
   "id": "73aaa36a-0194-46c6-881b-b0fbd26a068a",
   "metadata": {},
   "outputs": [
    {
     "data": {
      "text/plain": [
       "3"
      ]
     },
     "execution_count": 42,
     "metadata": {},
     "output_type": "execute_result"
    }
   ],
   "source": [
    "count_plays(\"Despacito\")"
   ]
  }
 ],
 "metadata": {
  "kernelspec": {
   "display_name": "Python 3 (ipykernel)",
   "language": "python",
   "name": "python3"
  },
  "language_info": {
   "codemirror_mode": {
    "name": "ipython",
    "version": 3
   },
   "file_extension": ".py",
   "mimetype": "text/x-python",
   "name": "python",
   "nbconvert_exporter": "python",
   "pygments_lexer": "ipython3",
   "version": "3.10.6"
  }
 },
 "nbformat": 4,
 "nbformat_minor": 5
}
