{
 "cells": [
  {
   "cell_type": "code",
   "execution_count": 10,
   "id": "6abd9ff8-64b7-4154-9f56-9c8c99fc95d1",
   "metadata": {},
   "outputs": [],
   "source": [
    "import pandas as pd\n",
    "import wget\n",
    "import requests\n",
    "import plotly.offline as pyo\n",
    "import plotly.graph_objs as go"
   ]
  },
  {
   "cell_type": "code",
   "execution_count": 4,
   "id": "262dbf19-947f-4661-b8d2-7f4916917bcd",
   "metadata": {},
   "outputs": [],
   "source": [
    "url='Bakery_sales.csv'\n",
    "data = pd.read_csv(url)"
   ]
  },
  {
   "cell_type": "code",
   "execution_count": 6,
   "id": "76f8aa1c-3222-4596-a3da-bba530fcb900",
   "metadata": {},
   "outputs": [
    {
     "data": {
      "text/html": [
       "<div>\n",
       "<style scoped>\n",
       "    .dataframe tbody tr th:only-of-type {\n",
       "        vertical-align: middle;\n",
       "    }\n",
       "\n",
       "    .dataframe tbody tr th {\n",
       "        vertical-align: top;\n",
       "    }\n",
       "\n",
       "    .dataframe thead th {\n",
       "        text-align: right;\n",
       "    }\n",
       "</style>\n",
       "<table border=\"1\" class=\"dataframe\">\n",
       "  <thead>\n",
       "    <tr style=\"text-align: right;\">\n",
       "      <th></th>\n",
       "      <th>Unnamed: 0</th>\n",
       "      <th>date</th>\n",
       "      <th>time</th>\n",
       "      <th>ticket_number</th>\n",
       "      <th>article</th>\n",
       "      <th>Quantity</th>\n",
       "      <th>unit_price</th>\n",
       "    </tr>\n",
       "  </thead>\n",
       "  <tbody>\n",
       "    <tr>\n",
       "      <th>0</th>\n",
       "      <td>0</td>\n",
       "      <td>2021-01-02</td>\n",
       "      <td>08:38</td>\n",
       "      <td>150040.0</td>\n",
       "      <td>BAGUETTE</td>\n",
       "      <td>1.0</td>\n",
       "      <td>0,90 €</td>\n",
       "    </tr>\n",
       "    <tr>\n",
       "      <th>1</th>\n",
       "      <td>1</td>\n",
       "      <td>2021-01-02</td>\n",
       "      <td>08:38</td>\n",
       "      <td>150040.0</td>\n",
       "      <td>PAIN AU CHOCOLAT</td>\n",
       "      <td>3.0</td>\n",
       "      <td>1,20 €</td>\n",
       "    </tr>\n",
       "  </tbody>\n",
       "</table>\n",
       "</div>"
      ],
      "text/plain": [
       "   Unnamed: 0        date   time  ticket_number           article  Quantity  \\\n",
       "0           0  2021-01-02  08:38       150040.0          BAGUETTE       1.0   \n",
       "1           1  2021-01-02  08:38       150040.0  PAIN AU CHOCOLAT       3.0   \n",
       "\n",
       "  unit_price  \n",
       "0     0,90 €  \n",
       "1     1,20 €  "
      ]
     },
     "execution_count": 6,
     "metadata": {},
     "output_type": "execute_result"
    }
   ],
   "source": [
    "data.head(2)"
   ]
  },
  {
   "cell_type": "code",
   "execution_count": 13,
   "id": "0ce6431f-a192-4a57-865c-a776d582a446",
   "metadata": {},
   "outputs": [
    {
     "name": "stdout",
     "output_type": "stream",
     "text": [
      "   Unnamed: 0        date   time  ticket_number               article  \\\n",
      "0           0  2021-01-02  08:38       150040.0              BAGUETTE   \n",
      "1           1  2021-01-02  08:38       150040.0      PAIN AU CHOCOLAT   \n",
      "2           4  2021-01-02  09:14       150041.0      PAIN AU CHOCOLAT   \n",
      "3           5  2021-01-02  09:14       150041.0                  PAIN   \n",
      "4           8  2021-01-02  09:25       150042.0  TRADITIONAL BAGUETTE   \n",
      "\n",
      "   Quantity unit_price color_pan  \n",
      "0       1.0     0,90 €     green  \n",
      "1       3.0     1,20 €     green  \n",
      "2       2.0     1,20 €     green  \n",
      "3       1.0     1,15 €     green  \n",
      "4       5.0     1,20 €     green  \n"
     ]
    }
   ],
   "source": [
    "\n",
    "dic_color={\"BAGUETTE\":\"green\",\"PAIN AU CHOCOLAT\":\"green\",\"PAIN\":\"green\",\"TRADITIONAL BAGUETTE\":\"green\",\"CROISSANT\":\"green\",\"BANETTE\":\"green\",\"BANETTINE\":\"green\",\"SPECIAL BREAD\":\"green\",\"COUPE\":\"green\",\"SAND JB EMMENTAL\":\"green\",\"KOUIGN AMANN\":\"green\",\"BOULE 200G\":\"green\",\"BOULE 400G\":\"green\",\"GAL FRANGIPANE 6P\":\"green\",\"CAMPAGNE\":\"green\",\"MOISSON\":\"green\",\"CAFE OU EAU\":\"green\",\"BRIOCHE\":\"green\",\"CEREAL BAGUETTE\":\"green\",\"SEIGLE\":\"green\",\"COMPLET\":\"green\",\"DIVERS PATISSERIE\":\"green\",\"GAL FRANGIPANE 4P\":\"green\",\"COOKIE\":\"green\",\"FICELLE\":\"green\",\"PAIN AUX RAISINS\":\"green\",\"GAL POMME 6P\":\"green\",\"GAL POMME 4P\":\"green\",\"FINANCIER X5\":\"green\",\"VIK BREAD\":\"green\",\"DIVERS VIENNOISERIE\":\"green\",\"GACHE\":\"green\",\"SANDWICH COMPLET\":\"green\",\"PAIN BANETTE\":\"green\",\"GRAND FAR BRETON\":\"green\",\"QUIM BREAD\":\"green\",\"SPECIAL BREAD KG\":\"green\",\"GD KOUIGN AMANN\":\"green\",\"BOULE POLKA\":\"green\",\"DEMI BAGUETTE\":\"green\",\"CHAUSSON AUX POMMES\":\"green\",\"BAGUETTE GRAINE\":\"green\",\"DIVERS CONFISERIE\":\"green\",\"SUCETTE\":\"green\",\"DIVERS BOULANGERIE\":\"green\",\"BOISSON 33CL\":\"green\",\"PATES\":\"green\",\"FORMULE SANDWICH\":\"green\",\"DIVERS SANDWICHS\":\"green\",\"CROISSANT AMANDES\":\"blue\",\"PAIN CHOCO AMANDES\":\"blue\",\"SACHET VIENNOISERIE\":\"blue\",\"NANTAIS\":\"blue\",\"CHOCOLAT\":\"blue\",\"PAIN S/SEL\":\"blue\",\"FONDANT CHOCOLAT\":\"blue\",\"GAL POIRE CHOCO 6P\":\"blue\",\"GAL POIRE CHOCO 4P\":\"blue\",\"GALETTE 8 PERS\":\"blue\",\"SAND JB\":\"blue\",\"SACHET DE CROUTON\":\"blue\",\"GRANDE SUCETTE\":\"blue\",\"DEMI PAIN\":\"blue\",\"TARTELETTE\":\"blue\",\"FLAN\":\"blue\",\"PARIS BREST\":\"blue\",\"SAVARIN\":\"blue\",\"FLAN ABRICOT\":\"blue\",\"BAGUETTE APERO\":\"blue\",\"MILLES FEUILLES\":\"blue\",\"CHOU CHANTILLY\":\"blue\",\"ECLAIR\":\"blue\",\"ROYAL 4P\":\"blue\",\"TARTE FRUITS 6P\":\"blue\",\"TARTE FRUITS 4P\":\"blue\",\"NOIX JAPONAISE\":\"blue\",\"THE\":\"blue\",\"BRIOCHETTE\":\"blue\",\"ROYAL 6P\":\"blue\",\"ECLAIR FRAISE PISTACHE\":\"blue\",\".\":\"blue\",\"GD FAR BRETON\":\"blue\",\"TRIANGLES\":\"blue\",\"TROPEZIENNE\":\"blue\",\"TROPEZIENNE FRAMBOISE\":\"blue\",\"ROYAL\":\"blue\",\"TARTE FRAISE 6P\":\"blue\",\"TARTELETTE FRAISE\":\"blue\",\"TARTE FRAISE 4PER\":\"blue\",\"FRAISIER\":\"blue\",\"NID DE POULE\":\"blue\",\"TARTELETTE CHOC\":\"blue\",\"PAIN DE MIE\":\"blue\",\"CRUMBLE\":\"blue\",\"FINANCIER\":\"blue\",\"DIVERS BOISSONS\":\"blue\",\"CAKE\":\"blue\",\"VIENNOISE\":\"blue\",\"TRAITEUR\":\"blue\",\"PAIN GRAINES\":\"red\",\"PLATPREPARE6,50\":\"red\",\"PLATPREPARE5,50\":\"red\",\"PLATPREPARE7,00\":\"red\",\"FORMULE PLAT PREPARE\":\"red\",\"ST HONORE\":\"red\",\"BROWNIES\":\"red\",\"RELIGIEUSE\":\"red\",\"PLATPREPARE6,00\":\"red\",\"DELICETROPICAL\":\"red\",\"CRUMBLECARAMEL OU PISTAE\":\"red\",\"PT NANTAIS\":\"red\",\"GD NANTAIS\":\"red\",\"DOUCEUR D HIVER\":\"red\",\"TROIS CHOCOLAT\":\"red\",\"ARTICLE 295\":\"red\",\"TARTE FINE\":\"red\",\"ENTREMETS\":\"red\",\"BRIOCHE DE NOEL\":\"red\",\"FRAMBOISIER\":\"red\",\"BUCHE 4PERS\":\"red\",\"BUCHE 6PERS\":\"red\",\"GD PLATEAU SALE\":\"red\",\"BUCHE 8PERS\":\"red\",\"PT PLATEAU SALE\":\"red\",\"REDUCTION SUCREES 12\":\"red\",\"PAIN NOIR\":\"red\",\"REDUCTION SUCREES 24\":\"red\",\"BOTTEREAU\":\"red\",\"MERINGUE\":\"red\",\"PALMIER\":\"red\",\"PAILLE\":\"red\",\"PLAT 6.50E\":\"red\",\"PLAT 7.60E\":\"red\",\"PLAT 7.00\":\"red\",\"PLAT\":\"red\",\"PLAT 8.30E\":\"red\",\"FORMULE PATE\":\"red\",\"GUERANDAIS\":\"red\",\"PALET BRETON\":\"red\",\"CARAMEL NOIX\":\"red\",\"MACARON\":\"red\",\"12 MACARON\":\"red\",\"ARMORICAIN\":\"red\",\"PLAQUE TARTE 25P\":\"red\",\"SABLE F  P\":\"red\",\"PAIN SUISSE PEPITO\":\"red\",\"TULIPE\":\"red\",\"TARTELETTE COCKTAIL\":\"red\",\"SACHET DE VIENNOISERIE\":\"red\"}\n",
    "data[\"color_pan\"]=data[\"article\"].map(dic_color)\n",
    "\n",
    "print(data.head())"
   ]
  },
  {
   "cell_type": "code",
   "execution_count": null,
   "id": "ba245217-6f7b-4e1b-8d65-765c85bfd5d7",
   "metadata": {},
   "outputs": [],
   "source": [
    "layout=go.Layout(title=\"Presion de sangre por edad\",xaxis=dict(title=\"Edad\"),yaxis=dict(title=\"Presion de sangre\"),barmode=\"stack\")#se define el template basico \n",
    "\n",
    "fig=go.Figure(data=bubble_plot,layout=layout)\n",
    "fig.show()\n",
    "pyo.plot(fig,filename=\"Bubble_Plot.html\")"
   ]
  }
 ],
 "metadata": {
  "kernelspec": {
   "display_name": "Python 3 (ipykernel)",
   "language": "python",
   "name": "python3"
  },
  "language_info": {
   "codemirror_mode": {
    "name": "ipython",
    "version": 3
   },
   "file_extension": ".py",
   "mimetype": "text/x-python",
   "name": "python",
   "nbconvert_exporter": "python",
   "pygments_lexer": "ipython3",
   "version": "3.10.6"
  }
 },
 "nbformat": 4,
 "nbformat_minor": 5
}
